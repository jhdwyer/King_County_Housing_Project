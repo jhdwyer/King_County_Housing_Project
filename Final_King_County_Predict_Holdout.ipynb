{
 "cells": [
  {
   "cell_type": "markdown",
   "metadata": {},
   "source": [
    "# Predict Holdout\n",
    "Author: Jaclyn Dwyer"
   ]
  },
  {
   "cell_type": "markdown",
   "metadata": {},
   "source": [
    "<img src = 'https://www.racialequityalliance.org/wp-content/uploads/2016/10/assessors_social-1.jpg'>"
   ]
  },
  {
   "cell_type": "markdown",
   "metadata": {},
   "source": [
    "This notebook is used to predict the king county housing prices from the holdout data using the prediction model created in the other notebook."
   ]
  },
  {
   "cell_type": "code",
   "execution_count": 38,
   "metadata": {},
   "outputs": [],
   "source": [
    "import pandas as pd\n",
    "import numpy as np \n",
    "\n",
    "pd.set_option('display.max_columns', 300)"
   ]
  },
  {
   "cell_type": "code",
   "execution_count": 39,
   "metadata": {},
   "outputs": [],
   "source": [
    "df = pd.read_csv('data/kc_house_data_test_features.csv')"
   ]
  },
  {
   "cell_type": "code",
   "execution_count": 40,
   "metadata": {
    "scrolled": true
   },
   "outputs": [
    {
     "data": {
      "text/html": [
       "<div>\n",
       "<style scoped>\n",
       "    .dataframe tbody tr th:only-of-type {\n",
       "        vertical-align: middle;\n",
       "    }\n",
       "\n",
       "    .dataframe tbody tr th {\n",
       "        vertical-align: top;\n",
       "    }\n",
       "\n",
       "    .dataframe thead th {\n",
       "        text-align: right;\n",
       "    }\n",
       "</style>\n",
       "<table border=\"1\" class=\"dataframe\">\n",
       "  <thead>\n",
       "    <tr style=\"text-align: right;\">\n",
       "      <th></th>\n",
       "      <th>Unnamed: 0</th>\n",
       "      <th>id</th>\n",
       "      <th>date</th>\n",
       "      <th>bedrooms</th>\n",
       "      <th>bathrooms</th>\n",
       "      <th>sqft_living</th>\n",
       "      <th>sqft_lot</th>\n",
       "      <th>floors</th>\n",
       "      <th>waterfront</th>\n",
       "      <th>view</th>\n",
       "      <th>condition</th>\n",
       "      <th>grade</th>\n",
       "      <th>sqft_above</th>\n",
       "      <th>sqft_basement</th>\n",
       "      <th>yr_built</th>\n",
       "      <th>yr_renovated</th>\n",
       "      <th>zipcode</th>\n",
       "      <th>lat</th>\n",
       "      <th>long</th>\n",
       "      <th>sqft_living15</th>\n",
       "      <th>sqft_lot15</th>\n",
       "    </tr>\n",
       "  </thead>\n",
       "  <tbody>\n",
       "    <tr>\n",
       "      <th>0</th>\n",
       "      <td>0</td>\n",
       "      <td>1974300020</td>\n",
       "      <td>20140827T000000</td>\n",
       "      <td>4</td>\n",
       "      <td>2.5</td>\n",
       "      <td>2270</td>\n",
       "      <td>11500</td>\n",
       "      <td>1.0</td>\n",
       "      <td>0</td>\n",
       "      <td>0</td>\n",
       "      <td>3</td>\n",
       "      <td>8</td>\n",
       "      <td>1540</td>\n",
       "      <td>730</td>\n",
       "      <td>1967</td>\n",
       "      <td>0</td>\n",
       "      <td>98034</td>\n",
       "      <td>47.7089</td>\n",
       "      <td>-122.241</td>\n",
       "      <td>2020</td>\n",
       "      <td>10918</td>\n",
       "    </tr>\n",
       "    <tr>\n",
       "      <th>1</th>\n",
       "      <td>1</td>\n",
       "      <td>1974300020</td>\n",
       "      <td>20150218T000000</td>\n",
       "      <td>4</td>\n",
       "      <td>2.5</td>\n",
       "      <td>2270</td>\n",
       "      <td>11500</td>\n",
       "      <td>1.0</td>\n",
       "      <td>0</td>\n",
       "      <td>0</td>\n",
       "      <td>3</td>\n",
       "      <td>8</td>\n",
       "      <td>1540</td>\n",
       "      <td>730</td>\n",
       "      <td>1967</td>\n",
       "      <td>0</td>\n",
       "      <td>98034</td>\n",
       "      <td>47.7089</td>\n",
       "      <td>-122.241</td>\n",
       "      <td>2020</td>\n",
       "      <td>10918</td>\n",
       "    </tr>\n",
       "  </tbody>\n",
       "</table>\n",
       "</div>"
      ],
      "text/plain": [
       "   Unnamed: 0          id             date  bedrooms  bathrooms  sqft_living  \\\n",
       "0           0  1974300020  20140827T000000         4        2.5         2270   \n",
       "1           1  1974300020  20150218T000000         4        2.5         2270   \n",
       "\n",
       "   sqft_lot  floors  waterfront  view  condition  grade  sqft_above  \\\n",
       "0     11500     1.0           0     0          3      8        1540   \n",
       "1     11500     1.0           0     0          3      8        1540   \n",
       "\n",
       "   sqft_basement  yr_built  yr_renovated  zipcode      lat     long  \\\n",
       "0            730      1967             0    98034  47.7089 -122.241   \n",
       "1            730      1967             0    98034  47.7089 -122.241   \n",
       "\n",
       "   sqft_living15  sqft_lot15  \n",
       "0           2020       10918  \n",
       "1           2020       10918  "
      ]
     },
     "execution_count": 40,
     "metadata": {},
     "output_type": "execute_result"
    }
   ],
   "source": [
    "df.head(2)"
   ]
  },
  {
   "cell_type": "markdown",
   "metadata": {},
   "source": [
    "### Import Pickle Model"
   ]
  },
  {
   "cell_type": "code",
   "execution_count": 41,
   "metadata": {},
   "outputs": [],
   "source": [
    "import pickle"
   ]
  },
  {
   "cell_type": "code",
   "execution_count": 42,
   "metadata": {},
   "outputs": [],
   "source": [
    "infile = open(\"model.pickle\",'rb')\n",
    "model = pickle.load(infile)\n",
    "infile.close()"
   ]
  },
  {
   "cell_type": "code",
   "execution_count": 43,
   "metadata": {},
   "outputs": [
    {
     "name": "stdout",
     "output_type": "stream",
     "text": [
      "-295.37862902775527\n",
      "106\n"
     ]
    }
   ],
   "source": [
    "print(model.intercept_)\n",
    "print(len(model.coef_))"
   ]
  },
  {
   "cell_type": "code",
   "execution_count": 44,
   "metadata": {},
   "outputs": [],
   "source": [
    "infile = open(\"other_info.pickle\",'rb')\n",
    "other_info = pickle.load(infile)\n",
    "infile.close()"
   ]
  },
  {
   "cell_type": "code",
   "execution_count": 45,
   "metadata": {},
   "outputs": [
    {
     "data": {
      "text/html": [
       "<div>\n",
       "<style scoped>\n",
       "    .dataframe tbody tr th:only-of-type {\n",
       "        vertical-align: middle;\n",
       "    }\n",
       "\n",
       "    .dataframe tbody tr th {\n",
       "        vertical-align: top;\n",
       "    }\n",
       "\n",
       "    .dataframe thead th {\n",
       "        text-align: right;\n",
       "    }\n",
       "</style>\n",
       "<table border=\"1\" class=\"dataframe\">\n",
       "  <thead>\n",
       "    <tr style=\"text-align: right;\">\n",
       "      <th></th>\n",
       "      <th>Unnamed: 0</th>\n",
       "      <th>id</th>\n",
       "      <th>bedrooms</th>\n",
       "      <th>bathrooms</th>\n",
       "      <th>sqft_living</th>\n",
       "      <th>sqft_lot</th>\n",
       "      <th>floors</th>\n",
       "      <th>waterfront</th>\n",
       "      <th>view</th>\n",
       "      <th>condition</th>\n",
       "      <th>grade</th>\n",
       "      <th>sqft_above</th>\n",
       "      <th>sqft_basement</th>\n",
       "      <th>yr_built</th>\n",
       "      <th>yr_renovated</th>\n",
       "      <th>zipcode</th>\n",
       "      <th>lat</th>\n",
       "      <th>long</th>\n",
       "      <th>sqft_living15</th>\n",
       "      <th>sqft_lot15</th>\n",
       "    </tr>\n",
       "  </thead>\n",
       "  <tbody>\n",
       "    <tr>\n",
       "      <th>count</th>\n",
       "      <td>4322.000000</td>\n",
       "      <td>4.322000e+03</td>\n",
       "      <td>4322.000000</td>\n",
       "      <td>4322.000000</td>\n",
       "      <td>4322.000000</td>\n",
       "      <td>4322.000000</td>\n",
       "      <td>4322.000000</td>\n",
       "      <td>4322.000000</td>\n",
       "      <td>4322.000000</td>\n",
       "      <td>4322.000000</td>\n",
       "      <td>4322.000000</td>\n",
       "      <td>4322.000000</td>\n",
       "      <td>4322.000000</td>\n",
       "      <td>4322.000000</td>\n",
       "      <td>4322.000000</td>\n",
       "      <td>4322.000000</td>\n",
       "      <td>4322.000000</td>\n",
       "      <td>4322.000000</td>\n",
       "      <td>4322.000000</td>\n",
       "      <td>4322.000000</td>\n",
       "    </tr>\n",
       "    <tr>\n",
       "      <th>mean</th>\n",
       "      <td>2161.493290</td>\n",
       "      <td>4.625710e+09</td>\n",
       "      <td>3.387552</td>\n",
       "      <td>2.322362</td>\n",
       "      <td>2183.685794</td>\n",
       "      <td>12483.624017</td>\n",
       "      <td>1.738894</td>\n",
       "      <td>0.006478</td>\n",
       "      <td>0.201296</td>\n",
       "      <td>3.248727</td>\n",
       "      <td>7.905368</td>\n",
       "      <td>1936.708237</td>\n",
       "      <td>246.977557</td>\n",
       "      <td>1985.562008</td>\n",
       "      <td>64.213559</td>\n",
       "      <td>98077.792689</td>\n",
       "      <td>47.560202</td>\n",
       "      <td>-122.209680</td>\n",
       "      <td>2032.044193</td>\n",
       "      <td>10787.661268</td>\n",
       "    </tr>\n",
       "    <tr>\n",
       "      <th>std</th>\n",
       "      <td>1247.809809</td>\n",
       "      <td>2.920630e+09</td>\n",
       "      <td>0.905875</td>\n",
       "      <td>0.781894</td>\n",
       "      <td>966.620774</td>\n",
       "      <td>36670.448359</td>\n",
       "      <td>0.586154</td>\n",
       "      <td>0.080237</td>\n",
       "      <td>0.711409</td>\n",
       "      <td>0.554717</td>\n",
       "      <td>1.166759</td>\n",
       "      <td>895.156629</td>\n",
       "      <td>408.585953</td>\n",
       "      <td>30.556960</td>\n",
       "      <td>352.311262</td>\n",
       "      <td>50.971393</td>\n",
       "      <td>0.133669</td>\n",
       "      <td>0.147595</td>\n",
       "      <td>728.033502</td>\n",
       "      <td>27418.372095</td>\n",
       "    </tr>\n",
       "    <tr>\n",
       "      <th>min</th>\n",
       "      <td>0.000000</td>\n",
       "      <td>3.600072e+06</td>\n",
       "      <td>0.000000</td>\n",
       "      <td>0.000000</td>\n",
       "      <td>290.000000</td>\n",
       "      <td>635.000000</td>\n",
       "      <td>1.000000</td>\n",
       "      <td>0.000000</td>\n",
       "      <td>0.000000</td>\n",
       "      <td>1.000000</td>\n",
       "      <td>1.000000</td>\n",
       "      <td>290.000000</td>\n",
       "      <td>0.000000</td>\n",
       "      <td>1900.000000</td>\n",
       "      <td>0.000000</td>\n",
       "      <td>98001.000000</td>\n",
       "      <td>47.185300</td>\n",
       "      <td>-122.505000</td>\n",
       "      <td>620.000000</td>\n",
       "      <td>651.000000</td>\n",
       "    </tr>\n",
       "    <tr>\n",
       "      <th>25%</th>\n",
       "      <td>1081.250000</td>\n",
       "      <td>2.125572e+09</td>\n",
       "      <td>3.000000</td>\n",
       "      <td>1.750000</td>\n",
       "      <td>1454.250000</td>\n",
       "      <td>3800.250000</td>\n",
       "      <td>1.000000</td>\n",
       "      <td>0.000000</td>\n",
       "      <td>0.000000</td>\n",
       "      <td>3.000000</td>\n",
       "      <td>7.000000</td>\n",
       "      <td>1248.500000</td>\n",
       "      <td>0.000000</td>\n",
       "      <td>1964.000000</td>\n",
       "      <td>0.000000</td>\n",
       "      <td>98033.000000</td>\n",
       "      <td>47.487400</td>\n",
       "      <td>-122.334000</td>\n",
       "      <td>1480.000000</td>\n",
       "      <td>4000.000000</td>\n",
       "    </tr>\n",
       "    <tr>\n",
       "      <th>50%</th>\n",
       "      <td>2161.500000</td>\n",
       "      <td>3.837351e+09</td>\n",
       "      <td>3.000000</td>\n",
       "      <td>2.500000</td>\n",
       "      <td>2000.000000</td>\n",
       "      <td>6000.000000</td>\n",
       "      <td>2.000000</td>\n",
       "      <td>0.000000</td>\n",
       "      <td>0.000000</td>\n",
       "      <td>3.000000</td>\n",
       "      <td>8.000000</td>\n",
       "      <td>1695.000000</td>\n",
       "      <td>0.000000</td>\n",
       "      <td>2002.500000</td>\n",
       "      <td>0.000000</td>\n",
       "      <td>98065.000000</td>\n",
       "      <td>47.567300</td>\n",
       "      <td>-122.230500</td>\n",
       "      <td>1870.000000</td>\n",
       "      <td>6000.000000</td>\n",
       "    </tr>\n",
       "    <tr>\n",
       "      <th>75%</th>\n",
       "      <td>3241.750000</td>\n",
       "      <td>7.504001e+09</td>\n",
       "      <td>4.000000</td>\n",
       "      <td>2.500000</td>\n",
       "      <td>2730.000000</td>\n",
       "      <td>9150.750000</td>\n",
       "      <td>2.000000</td>\n",
       "      <td>0.000000</td>\n",
       "      <td>0.000000</td>\n",
       "      <td>3.000000</td>\n",
       "      <td>9.000000</td>\n",
       "      <td>2520.000000</td>\n",
       "      <td>419.250000</td>\n",
       "      <td>2009.000000</td>\n",
       "      <td>0.000000</td>\n",
       "      <td>98117.000000</td>\n",
       "      <td>47.673375</td>\n",
       "      <td>-122.115000</td>\n",
       "      <td>2460.000000</td>\n",
       "      <td>9000.000000</td>\n",
       "    </tr>\n",
       "    <tr>\n",
       "      <th>max</th>\n",
       "      <td>4322.000000</td>\n",
       "      <td>9.895000e+09</td>\n",
       "      <td>10.000000</td>\n",
       "      <td>6.500000</td>\n",
       "      <td>8020.000000</td>\n",
       "      <td>871200.000000</td>\n",
       "      <td>3.500000</td>\n",
       "      <td>1.000000</td>\n",
       "      <td>4.000000</td>\n",
       "      <td>5.000000</td>\n",
       "      <td>13.000000</td>\n",
       "      <td>8020.000000</td>\n",
       "      <td>2810.000000</td>\n",
       "      <td>2015.000000</td>\n",
       "      <td>2015.000000</td>\n",
       "      <td>98199.000000</td>\n",
       "      <td>47.777600</td>\n",
       "      <td>-121.364000</td>\n",
       "      <td>6210.000000</td>\n",
       "      <td>858132.000000</td>\n",
       "    </tr>\n",
       "  </tbody>\n",
       "</table>\n",
       "</div>"
      ],
      "text/plain": [
       "        Unnamed: 0            id     bedrooms    bathrooms  sqft_living  \\\n",
       "count  4322.000000  4.322000e+03  4322.000000  4322.000000  4322.000000   \n",
       "mean   2161.493290  4.625710e+09     3.387552     2.322362  2183.685794   \n",
       "std    1247.809809  2.920630e+09     0.905875     0.781894   966.620774   \n",
       "min       0.000000  3.600072e+06     0.000000     0.000000   290.000000   \n",
       "25%    1081.250000  2.125572e+09     3.000000     1.750000  1454.250000   \n",
       "50%    2161.500000  3.837351e+09     3.000000     2.500000  2000.000000   \n",
       "75%    3241.750000  7.504001e+09     4.000000     2.500000  2730.000000   \n",
       "max    4322.000000  9.895000e+09    10.000000     6.500000  8020.000000   \n",
       "\n",
       "            sqft_lot       floors   waterfront         view    condition  \\\n",
       "count    4322.000000  4322.000000  4322.000000  4322.000000  4322.000000   \n",
       "mean    12483.624017     1.738894     0.006478     0.201296     3.248727   \n",
       "std     36670.448359     0.586154     0.080237     0.711409     0.554717   \n",
       "min       635.000000     1.000000     0.000000     0.000000     1.000000   \n",
       "25%      3800.250000     1.000000     0.000000     0.000000     3.000000   \n",
       "50%      6000.000000     2.000000     0.000000     0.000000     3.000000   \n",
       "75%      9150.750000     2.000000     0.000000     0.000000     3.000000   \n",
       "max    871200.000000     3.500000     1.000000     4.000000     5.000000   \n",
       "\n",
       "             grade   sqft_above  sqft_basement     yr_built  yr_renovated  \\\n",
       "count  4322.000000  4322.000000    4322.000000  4322.000000   4322.000000   \n",
       "mean      7.905368  1936.708237     246.977557  1985.562008     64.213559   \n",
       "std       1.166759   895.156629     408.585953    30.556960    352.311262   \n",
       "min       1.000000   290.000000       0.000000  1900.000000      0.000000   \n",
       "25%       7.000000  1248.500000       0.000000  1964.000000      0.000000   \n",
       "50%       8.000000  1695.000000       0.000000  2002.500000      0.000000   \n",
       "75%       9.000000  2520.000000     419.250000  2009.000000      0.000000   \n",
       "max      13.000000  8020.000000    2810.000000  2015.000000   2015.000000   \n",
       "\n",
       "            zipcode          lat         long  sqft_living15     sqft_lot15  \n",
       "count   4322.000000  4322.000000  4322.000000    4322.000000    4322.000000  \n",
       "mean   98077.792689    47.560202  -122.209680    2032.044193   10787.661268  \n",
       "std       50.971393     0.133669     0.147595     728.033502   27418.372095  \n",
       "min    98001.000000    47.185300  -122.505000     620.000000     651.000000  \n",
       "25%    98033.000000    47.487400  -122.334000    1480.000000    4000.000000  \n",
       "50%    98065.000000    47.567300  -122.230500    1870.000000    6000.000000  \n",
       "75%    98117.000000    47.673375  -122.115000    2460.000000    9000.000000  \n",
       "max    98199.000000    47.777600  -121.364000    6210.000000  858132.000000  "
      ]
     },
     "execution_count": 45,
     "metadata": {},
     "output_type": "execute_result"
    }
   ],
   "source": [
    "df.describe()"
   ]
  },
  {
   "cell_type": "code",
   "execution_count": 46,
   "metadata": {},
   "outputs": [
    {
     "name": "stdout",
     "output_type": "stream",
     "text": [
      "<class 'pandas.core.frame.DataFrame'>\n",
      "RangeIndex: 4322 entries, 0 to 4321\n",
      "Data columns (total 21 columns):\n",
      " #   Column         Non-Null Count  Dtype  \n",
      "---  ------         --------------  -----  \n",
      " 0   Unnamed: 0     4322 non-null   int64  \n",
      " 1   id             4322 non-null   int64  \n",
      " 2   date           4322 non-null   object \n",
      " 3   bedrooms       4322 non-null   int64  \n",
      " 4   bathrooms      4322 non-null   float64\n",
      " 5   sqft_living    4322 non-null   int64  \n",
      " 6   sqft_lot       4322 non-null   int64  \n",
      " 7   floors         4322 non-null   float64\n",
      " 8   waterfront     4322 non-null   int64  \n",
      " 9   view           4322 non-null   int64  \n",
      " 10  condition      4322 non-null   int64  \n",
      " 11  grade          4322 non-null   int64  \n",
      " 12  sqft_above     4322 non-null   int64  \n",
      " 13  sqft_basement  4322 non-null   int64  \n",
      " 14  yr_built       4322 non-null   int64  \n",
      " 15  yr_renovated   4322 non-null   int64  \n",
      " 16  zipcode        4322 non-null   int64  \n",
      " 17  lat            4322 non-null   float64\n",
      " 18  long           4322 non-null   float64\n",
      " 19  sqft_living15  4322 non-null   int64  \n",
      " 20  sqft_lot15     4322 non-null   int64  \n",
      "dtypes: float64(4), int64(16), object(1)\n",
      "memory usage: 709.2+ KB\n"
     ]
    }
   ],
   "source": [
    "df.info()"
   ]
  },
  {
   "cell_type": "code",
   "execution_count": 47,
   "metadata": {},
   "outputs": [
    {
     "data": {
      "text/plain": [
       "Unnamed: 0       0\n",
       "id               0\n",
       "date             0\n",
       "bedrooms         0\n",
       "bathrooms        0\n",
       "sqft_living      0\n",
       "sqft_lot         0\n",
       "floors           0\n",
       "waterfront       0\n",
       "view             0\n",
       "condition        0\n",
       "grade            0\n",
       "sqft_above       0\n",
       "sqft_basement    0\n",
       "yr_built         0\n",
       "yr_renovated     0\n",
       "zipcode          0\n",
       "lat              0\n",
       "long             0\n",
       "sqft_living15    0\n",
       "sqft_lot15       0\n",
       "dtype: int64"
      ]
     },
     "execution_count": 47,
     "metadata": {},
     "output_type": "execute_result"
    }
   ],
   "source": [
    "df.isna().sum()"
   ]
  },
  {
   "cell_type": "markdown",
   "metadata": {},
   "source": [
    "## Feature Engineer Holout Set"
   ]
  },
  {
   "cell_type": "code",
   "execution_count": 48,
   "metadata": {},
   "outputs": [],
   "source": [
    "#drop Unamed:0 and id\n",
    "df.drop(columns = ['Unnamed: 0', 'id'], axis = 1, inplace = True)"
   ]
  },
  {
   "cell_type": "code",
   "execution_count": 49,
   "metadata": {},
   "outputs": [],
   "source": [
    "#add column that is present in previous set but no in holdout set\n",
    "df['grade_3'] = 0"
   ]
  },
  {
   "cell_type": "code",
   "execution_count": 50,
   "metadata": {},
   "outputs": [],
   "source": [
    "#change date to datetime\n",
    "df['date'] = pd.to_datetime(df['date'])\n",
    "\n",
    "#create month column\n",
    "df['month'] = pd.DatetimeIndex(df['date']).month\n",
    "\n",
    "#drop date column\n",
    "df.drop(columns = ['date'], axis = 1, inplace = True)"
   ]
  },
  {
   "cell_type": "code",
   "execution_count": 51,
   "metadata": {},
   "outputs": [],
   "source": [
    "#drop sqft_above\n",
    "df.drop(columns = ['sqft_above'], axis = 1, inplace = True)"
   ]
  },
  {
   "cell_type": "code",
   "execution_count": 52,
   "metadata": {},
   "outputs": [],
   "source": [
    "#change 33 to 3 but think can delete\n",
    "df['bedrooms'].replace(to_replace = 33, value = 3, inplace = True)"
   ]
  },
  {
   "cell_type": "code",
   "execution_count": 53,
   "metadata": {},
   "outputs": [],
   "source": [
    "#cap sqft_lot\n",
    "df['sqft_lot']= np.where(df['sqft_lot'] > 1200000, 1200000, df['sqft_lot'])"
   ]
  },
  {
   "cell_type": "code",
   "execution_count": 54,
   "metadata": {},
   "outputs": [],
   "source": [
    "#create grade and zipcode dummies\n",
    "grade_dummies = pd.get_dummies(df['grade'], prefix='grade', drop_first=True)\n",
    "zipcode_dummies = pd.get_dummies(df['zipcode'], prefix='zip', drop_first=True)\n",
    "\n",
    "dfc = pd.concat([df, grade_dummies, zipcode_dummies], \n",
    "                   axis=1)"
   ]
  },
  {
   "cell_type": "code",
   "execution_count": 55,
   "metadata": {},
   "outputs": [],
   "source": [
    "#create column for peak or no peak months\n",
    "conditions = [((dfc['month'] <= 3) | (dfc['month'] >= 7)),\n",
    "             ((dfc['month'] >=4) & (dfc['month'] <=6))]\n",
    "\n",
    "choices = [('no_peak'), ('peak')]\n",
    "\n",
    "dfc['peak_months'] = np.select(conditions, choices)"
   ]
  },
  {
   "cell_type": "code",
   "execution_count": 56,
   "metadata": {},
   "outputs": [],
   "source": [
    "#dummy peak_months\n",
    "dfc = pd.get_dummies(dfc, columns=['peak_months'], drop_first=True)"
   ]
  },
  {
   "cell_type": "code",
   "execution_count": 57,
   "metadata": {},
   "outputs": [],
   "source": [
    "#Create column with estimated yard size\n",
    "dfc['yard'] = dfc['sqft_lot'] - (dfc['sqft_living']/dfc['floors'])"
   ]
  },
  {
   "cell_type": "code",
   "execution_count": 58,
   "metadata": {},
   "outputs": [],
   "source": [
    "#Create column for years since work dont\n",
    "conditions = [(dfc['yr_renovated'] == 0),\n",
    "             (dfc['yr_renovated'] != 0)]\n",
    "\n",
    "choices = [(2021 - dfc['yr_built']), \n",
    "          (2021 - dfc['yr_renovated'])]\n",
    "\n",
    "dfc['yrs_since_work'] = np.select(conditions, choices) "
   ]
  },
  {
   "cell_type": "code",
   "execution_count": 59,
   "metadata": {},
   "outputs": [],
   "source": [
    "#Engineer s_n column\n",
    "conditions = [(dfc['lat'] < 47.5),\n",
    "             (dfc['lat'] >= 47.5)]\n",
    "\n",
    "choice = [('south'), ('north')]\n",
    "\n",
    "dfc['s_n'] = np.select(conditions, choice)"
   ]
  },
  {
   "cell_type": "code",
   "execution_count": 60,
   "metadata": {},
   "outputs": [],
   "source": [
    "#dummy s_n\n",
    "dfc = pd.get_dummies(dfc, columns=['s_n'], drop_first=True)"
   ]
  },
  {
   "cell_type": "code",
   "execution_count": 61,
   "metadata": {},
   "outputs": [],
   "source": [
    "#save dfc to csv\n",
    "dfc.to_csv('data/dfc_holdout')"
   ]
  },
  {
   "cell_type": "code",
   "execution_count": 62,
   "metadata": {},
   "outputs": [],
   "source": [
    "#read in and rename\n",
    "dfcpi = pd.read_csv('data/dfc_holdout')\n",
    "dfcpi.drop(columns = 'Unnamed: 0', axis = 1, inplace = True)"
   ]
  },
  {
   "cell_type": "code",
   "execution_count": 63,
   "metadata": {},
   "outputs": [],
   "source": [
    "#add polynomials and interactions\n",
    "dfcpi['grade^2']= dfc['grade']*dfc['grade']\n",
    "dfcpi['i_bed_bath'] = dfc['bedrooms']* dfc['bathrooms']\n",
    "dfcpi['i_water_sqft_living'] = dfc['waterfront']*dfc['sqft_living']\n",
    "dfcpi['i_water_zipcode'] = dfc['waterfront'] * dfc['zipcode']\n",
    "dfcpi['i_view_zipcode'] = dfc['view'] * dfc['zipcode']\n",
    "dfcpi['i_waterfront_grade'] = dfc['waterfront'] * dfc['grade']\n",
    "dfcpi['i_grade_zipcode'] = dfc['grade'] * dfc['zipcode']"
   ]
  },
  {
   "cell_type": "code",
   "execution_count": 64,
   "metadata": {},
   "outputs": [],
   "source": [
    "dfcpi.to_csv('data/dfcpi_holdout')"
   ]
  },
  {
   "cell_type": "markdown",
   "metadata": {},
   "source": [
    "**Log Transformation**"
   ]
  },
  {
   "cell_type": "code",
   "execution_count": 65,
   "metadata": {},
   "outputs": [],
   "source": [
    "ldfcpi = pd.read_csv('data/dfcpi_holdout')\n",
    "ldfcpi.drop('Unnamed: 0', axis = 1, inplace = True)"
   ]
  },
  {
   "cell_type": "code",
   "execution_count": 66,
   "metadata": {},
   "outputs": [],
   "source": [
    "log_columns = ['sqft_living', 'sqft_lot', 'sqft_living15', 'sqft_lot15']"
   ]
  },
  {
   "cell_type": "code",
   "execution_count": 67,
   "metadata": {},
   "outputs": [],
   "source": [
    "for feat in log_columns:\n",
    "    ldfcpi[feat] = ldfcpi[feat].map(lambda x: np.log(x))"
   ]
  },
  {
   "cell_type": "markdown",
   "metadata": {},
   "source": [
    "# Predict the Holdout Set"
   ]
  },
  {
   "cell_type": "code",
   "execution_count": 68,
   "metadata": {},
   "outputs": [],
   "source": [
    "final_columns = list(other_info[0])"
   ]
  },
  {
   "cell_type": "code",
   "execution_count": 69,
   "metadata": {},
   "outputs": [
    {
     "data": {
      "text/plain": [
       "106"
      ]
     },
     "execution_count": 69,
     "metadata": {},
     "output_type": "execute_result"
    }
   ],
   "source": [
    "len(final_columns)"
   ]
  },
  {
   "cell_type": "code",
   "execution_count": 70,
   "metadata": {},
   "outputs": [],
   "source": [
    "final_answers_log = model.predict(ldfcpi[final_columns])\n",
    "\n",
    "#NP.EXP ON FINAL ANSWERS BEFORE EXPORT"
   ]
  },
  {
   "cell_type": "code",
   "execution_count": 71,
   "metadata": {},
   "outputs": [],
   "source": [
    "final_answers_exp = np.exp(final_answers_log)"
   ]
  },
  {
   "cell_type": "code",
   "execution_count": 72,
   "metadata": {},
   "outputs": [
    {
     "data": {
      "text/plain": [
       "array([527061.1096709 , 540206.57559486, 394842.72845961, ...,\n",
       "       329417.91426818, 425173.87755598, 315972.36774561])"
      ]
     },
     "execution_count": 72,
     "metadata": {},
     "output_type": "execute_result"
    }
   ],
   "source": [
    "final_answers_exp"
   ]
  },
  {
   "cell_type": "code",
   "execution_count": 73,
   "metadata": {},
   "outputs": [],
   "source": [
    "final_answers_df = pd.DataFrame(final_answers_exp)"
   ]
  },
  {
   "cell_type": "code",
   "execution_count": 74,
   "metadata": {},
   "outputs": [],
   "source": [
    "final_answers_df.to_csv('data/housing_preds_jaclyn_dwyer.csv')"
   ]
  }
 ],
 "metadata": {
  "kernelspec": {
   "display_name": "learn-env",
   "language": "python",
   "name": "learn-env"
  },
  "language_info": {
   "codemirror_mode": {
    "name": "ipython",
    "version": 3
   },
   "file_extension": ".py",
   "mimetype": "text/x-python",
   "name": "python",
   "nbconvert_exporter": "python",
   "pygments_lexer": "ipython3",
   "version": "3.8.5"
  }
 },
 "nbformat": 4,
 "nbformat_minor": 4
}
